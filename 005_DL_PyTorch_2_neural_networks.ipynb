{
 "cells": [
  {
   "cell_type": "markdown",
   "metadata": {},
   "source": [
    "# Neural networks with PyTorch\n",
    "\n",
    "Deep learning networks tend to be massive with dozens or hundreds of layers, that's where the term \"deep\" comes from. You can build one of these deep networks using only weight matrices as we did in the previous notebook, but in general it's very cumbersome and difficult to implement. PyTorch has a nice module `nn` that provides a nice way to efficiently build large neural networks."
   ]
  },
  {
   "cell_type": "code",
   "execution_count": 1,
   "metadata": {},
   "outputs": [],
   "source": [
    "# Import necessary packages\n",
    "\n",
    "%matplotlib inline\n",
    "%config InlineBackend.figure_format = 'retina'\n",
    "\n",
    "import numpy as np\n",
    "import torch\n",
    "\n",
    "import helper\n",
    "\n",
    "import matplotlib.pyplot as plt"
   ]
  },
  {
   "cell_type": "markdown",
   "metadata": {},
   "source": [
    "\n",
    "Now we're going to build a larger network that can solve a (formerly) difficult problem, identifying text in an image. Here we'll use the MNIST dataset which consists of greyscale handwritten digits. Each image is 28x28 pixels, you can see a sample below\n",
    "\n",
    "<img src='assets/mnist.png'>\n",
    "\n",
    "Our goal is to build a neural network that can take one of these images and predict the digit in the image.\n",
    "\n",
    "First up, we need to get our dataset. This is provided through the `torchvision` package. The code below will download the MNIST dataset, then create training and test datasets for us. Don't worry too much about the details here, you'll learn more about this later."
   ]
  },
  {
   "cell_type": "code",
   "execution_count": 2,
   "metadata": {},
   "outputs": [
    {
     "name": "stderr",
     "output_type": "stream",
     "text": [
      "0it [00:00, ?it/s]"
     ]
    },
    {
     "name": "stdout",
     "output_type": "stream",
     "text": [
      "Downloading http://yann.lecun.com/exdb/mnist/train-images-idx3-ubyte.gz to /Users/derekwang/.pytorch/MNIST_data/MNIST/raw/train-images-idx3-ubyte.gz\n"
     ]
    },
    {
     "name": "stderr",
     "output_type": "stream",
     "text": [
      "9920512it [00:06, 1598763.33it/s]                             \n"
     ]
    },
    {
     "name": "stdout",
     "output_type": "stream",
     "text": [
      "Extracting /Users/derekwang/.pytorch/MNIST_data/MNIST/raw/train-images-idx3-ubyte.gz to /Users/derekwang/.pytorch/MNIST_data/MNIST/raw\n"
     ]
    },
    {
     "name": "stderr",
     "output_type": "stream",
     "text": [
      "0it [00:00, ?it/s]"
     ]
    },
    {
     "name": "stdout",
     "output_type": "stream",
     "text": [
      "Downloading http://yann.lecun.com/exdb/mnist/train-labels-idx1-ubyte.gz to /Users/derekwang/.pytorch/MNIST_data/MNIST/raw/train-labels-idx1-ubyte.gz\n"
     ]
    },
    {
     "name": "stderr",
     "output_type": "stream",
     "text": [
      "32768it [00:00, 106653.19it/s]                           \n",
      "0it [00:00, ?it/s]"
     ]
    },
    {
     "name": "stdout",
     "output_type": "stream",
     "text": [
      "Extracting /Users/derekwang/.pytorch/MNIST_data/MNIST/raw/train-labels-idx1-ubyte.gz to /Users/derekwang/.pytorch/MNIST_data/MNIST/raw\n",
      "Downloading http://yann.lecun.com/exdb/mnist/t10k-images-idx3-ubyte.gz to /Users/derekwang/.pytorch/MNIST_data/MNIST/raw/t10k-images-idx3-ubyte.gz\n"
     ]
    },
    {
     "name": "stderr",
     "output_type": "stream",
     "text": [
      "1654784it [00:01, 1049484.35it/s]                            \n",
      "0it [00:00, ?it/s]"
     ]
    },
    {
     "name": "stdout",
     "output_type": "stream",
     "text": [
      "Extracting /Users/derekwang/.pytorch/MNIST_data/MNIST/raw/t10k-images-idx3-ubyte.gz to /Users/derekwang/.pytorch/MNIST_data/MNIST/raw\n",
      "Downloading http://yann.lecun.com/exdb/mnist/t10k-labels-idx1-ubyte.gz to /Users/derekwang/.pytorch/MNIST_data/MNIST/raw/t10k-labels-idx1-ubyte.gz\n"
     ]
    },
    {
     "name": "stderr",
     "output_type": "stream",
     "text": [
      "8192it [00:00, 42667.37it/s]            \n"
     ]
    },
    {
     "name": "stdout",
     "output_type": "stream",
     "text": [
      "Extracting /Users/derekwang/.pytorch/MNIST_data/MNIST/raw/t10k-labels-idx1-ubyte.gz to /Users/derekwang/.pytorch/MNIST_data/MNIST/raw\n",
      "Processing...\n",
      "Done!\n"
     ]
    }
   ],
   "source": [
    "### Run this cell\n",
    "\n",
    "from torchvision import datasets, transforms\n",
    "\n",
    "# Define a transform to normalize the data\n",
    "transform = transforms.Compose([transforms.ToTensor(),\n",
    "                              transforms.Normalize((0.5,), (0.5,)),\n",
    "                              ])\n",
    "\n",
    "# Download and load the training data\n",
    "trainset = datasets.MNIST('~/.pytorch/MNIST_data/', download=True, train=True, transform=transform)\n",
    "trainloader = torch.utils.data.DataLoader(trainset, batch_size=64, shuffle=True)"
   ]
  },
  {
   "cell_type": "markdown",
   "metadata": {},
   "source": [
    "We have the training data loaded into `trainloader` and we make that an iterator with `iter(trainloader)`. Later, we'll use this to loop through the dataset for training, like\n",
    "\n",
    "```python\n",
    "for image, label in trainloader:\n",
    "    ## do things with images and labels\n",
    "```\n",
    "\n",
    "You'll notice I created the `trainloader` with a batch size of 64, and `shuffle=True`. The batch size is the number of images we get in one iteration from the data loader and pass through our network, often called a *batch*. And `shuffle=True` tells it to shuffle the dataset every time we start going through the data loader again. But here I'm just grabbing the first batch so we can check out the data. We can see below that `images` is just a tensor with size `(64, 1, 28, 28)`. So, 64 images per batch, 1 color channel, and 28x28 images."
   ]
  },
  {
   "cell_type": "code",
   "execution_count": 3,
   "metadata": {},
   "outputs": [
    {
     "name": "stdout",
     "output_type": "stream",
     "text": [
      "<class 'torch.Tensor'>\n",
      "torch.Size([64, 1, 28, 28])\n",
      "torch.Size([64])\n"
     ]
    }
   ],
   "source": [
    "dataiter = iter(trainloader)\n",
    "images, labels = dataiter.next()\n",
    "print(type(images))\n",
    "print(images.shape)\n",
    "print(labels.shape)"
   ]
  },
  {
   "cell_type": "markdown",
   "metadata": {},
   "source": [
    "This is what one of the images looks like. "
   ]
  },
  {
   "cell_type": "code",
   "execution_count": 4,
   "metadata": {},
   "outputs": [
    {
     "data": {
      "image/png": "[encoded data removed]",
      "text/plain": [
       "<Figure size 432x288 with 1 Axes>"
      ]
     },
     "metadata": {
      "image/png": {
       "height": 248,
       "width": 251
      },
      "needs_background": "light"
     },
     "output_type": "display_data"
    }
   ],
   "source": [
    "plt.imshow(images[1].numpy().squeeze(), cmap='Greys_r');"
   ]
  },
  {
   "cell_type": "markdown",
   "metadata": {},
   "source": [
    "First, let's try to build a simple network for this dataset using weight matrices and matrix multiplications. Then, we'll see how to do it using PyTorch's `nn` module which provides a much more convenient and powerful method for defining network architectures.\n",
    "\n",
    "The networks you've seen so far are called *fully-connected* or *dense* networks. Each unit in one layer is connected to each unit in the next layer. In fully-connected networks, the input to each layer must be a one-dimensional vector (which can be stacked into a 2D tensor as a batch of multiple examples). However, our images are 28x28 2D tensors, so we need to convert them into 1D vectors. Thinking about sizes, we need to convert the batch of images with shape `(64, 1, 28, 28)` to a have a shape of `(64, 784)`, 784 is 28 times 28. This is typically called *flattening*, we flattened the 2D images into 1D vectors.\n",
    "\n",
    "Previously you built a network with one output unit. Here we need 10 output units, one for each digit. We want our network to predict the digit shown in an image, so what we'll do is calculate probabilities that the image is of any one digit or class. This ends up being a discrete probability distribution over the classes (digits) that tells us the most likely class for the image. That means we need 10 output units for the 10 classes (digits). We'll see how to convert the network output into a probability distribution next.\n",
    "\n",
    "> **Exercise:** Flatten the batch of images `images`. Then build a multi-layer network with 784 input units, 256 hidden units, and 10 output units using random tensors for the weights and biases. For now, use a sigmoid activation for the hidden layer. Leave the output layer without an activation, we'll add one that gives us a probability distribution next."
   ]
  },
  {
   "cell_type": "code",
   "execution_count": 13,
   "metadata": {},
   "outputs": [
    {
     "name": "stdout",
     "output_type": "stream",
     "text": [
      "torch.Size([64, 10])\n",
      "tensor([[ 2.1183e+00, -1.0255e+01, -1.9749e+00,  6.1043e+00, -4.6852e+00,\n",
      "         -5.9606e+00,  7.4387e+00, -8.4643e+00,  1.3756e+00,  3.3833e+00],\n",
      "        [-7.7126e+00, -2.6622e+00,  1.4415e+00,  3.4458e+00, -1.1871e+00,\n",
      "         -2.3997e+00,  2.1714e+01, -3.3308e+00, -2.0180e+00,  4.3358e+00],\n",
      "        [-7.3318e+00, -1.0175e+01,  6.1811e+00,  1.0889e+01, -3.9973e+00,\n",
      "         -1.2548e+01,  1.7341e-01, -1.2706e+01,  7.6180e+00,  3.9906e+00],\n",
      "        [-4.2655e+00, -2.0924e+01,  6.5448e-01,  1.2627e+01, -2.5682e+00,\n",
      "         -1.8681e+01,  9.1982e+00, -1.1711e+01,  3.7379e+00,  6.7705e+00],\n",
      "        [-1.1874e+00, -1.5155e+01,  3.6784e+00, -2.2740e-01, -1.1908e+01,\n",
      "          3.0588e+00,  1.4633e+01, -3.1905e+00,  2.3254e+00, -8.2878e-01],\n",
      "        [-1.3259e+01, -1.2363e+01, -5.0285e+00,  2.1728e+00,  1.1884e+01,\n",
      "         -6.6113e+00,  6.5339e+00, -1.9049e-01,  2.2418e+00,  1.7797e+00],\n",
      "        [-5.7106e+00, -4.9538e-01, -4.8536e+00,  5.3875e+00,  2.3630e-01,\n",
      "         -1.2918e+01,  1.3085e+01, -6.4805e+00,  1.0297e+01,  6.5773e+00],\n",
      "        [-7.5805e+00, -3.6741e+00, -6.2158e-01,  9.3961e+00, -5.8738e+00,\n",
      "         -3.6791e+00,  2.1047e+01, -3.9823e+00, -6.3245e+00, -2.5035e+00],\n",
      "        [ 1.7727e+00, -6.1012e+00, -2.2876e+00,  3.9102e+00,  2.6662e+00,\n",
      "         -1.7921e+01,  1.2842e+01, -3.0794e+00,  4.9189e+00,  1.8419e-01],\n",
      "        [-9.3230e+00, -9.0017e+00, -1.9928e+00,  5.5587e+00, -8.1858e+00,\n",
      "         -1.5863e+01,  7.6615e+00, -1.5854e+01,  4.6827e+00,  4.8569e+00],\n",
      "        [-9.7774e+00, -1.1774e+01,  1.0902e+00,  6.5889e+00, -9.3413e+00,\n",
      "         -1.6111e+01,  1.5133e+01, -1.5854e+01,  1.3474e+01,  1.2486e+00],\n",
      "        [-1.1860e+01, -1.1800e+01, -5.4854e+00,  1.4387e+01, -6.1145e+00,\n",
      "         -7.4957e-01,  4.1079e+00, -1.1933e+01,  2.9910e+00,  8.0686e+00],\n",
      "        [-7.4162e+00, -1.9224e+01, -6.3687e-01,  1.2430e+01, -6.6462e+00,\n",
      "         -2.5106e+00,  1.3407e+01, -1.6234e+01,  1.1522e+01,  7.5951e+00],\n",
      "        [-1.4427e+01, -1.5896e+01, -5.0471e+00,  3.1012e+00, -5.0808e+00,\n",
      "         -1.3794e+01,  9.9729e+00, -1.6619e+01,  1.2952e+01,  3.6470e+00],\n",
      "        [-4.9272e+00, -1.6183e+01, -2.5765e+00,  7.4619e+00,  3.5013e+00,\n",
      "         -4.5354e+00,  6.1130e+00,  1.3558e+00, -4.2790e+00, -4.7415e+00],\n",
      "        [-7.0013e+00, -1.3426e+01,  1.0121e+01,  5.0003e+00, -5.9120e+00,\n",
      "         -1.3742e+01,  1.4617e+01, -9.5042e+00, -1.0434e+00,  4.2373e+00],\n",
      "        [ 2.4779e+00, -8.4963e+00, -1.3627e+00, -4.0366e-01, -1.0440e+00,\n",
      "         -1.1595e+01,  6.4828e+00, -1.2895e+01,  5.2036e+00,  4.0253e+00],\n",
      "        [-6.9478e+00,  1.4995e+00, -4.8808e+00,  1.0034e+01,  5.4828e+00,\n",
      "         -8.3023e+00,  1.3875e+01, -4.7510e+00,  1.1533e+01,  5.6470e+00],\n",
      "        [-7.4150e+00, -1.7840e+01,  1.7109e+00,  9.9515e+00, -1.1528e+01,\n",
      "         -1.2973e+01,  1.2954e+01, -7.3641e+00,  1.1589e+00, -2.4800e+00],\n",
      "        [-3.4348e+00, -4.6366e+00, -6.6293e+00,  7.7257e+00, -3.9741e+00,\n",
      "         -1.4192e+01,  1.1400e+01, -1.2056e+01,  1.1048e+01,  5.1095e+00],\n",
      "        [-8.6645e-01,  4.2809e+00, -7.1561e+00,  4.7224e+00, -7.7664e+00,\n",
      "         -5.5757e+00,  1.1500e+01, -9.4125e+00,  4.9163e+00,  1.1855e+00],\n",
      "        [-3.8916e+00, -1.2264e+01, -1.8593e+00,  9.1796e+00, -5.4732e+00,\n",
      "         -5.3364e+00,  2.2171e+01, -1.1895e+01,  6.0000e+00,  4.1384e+00],\n",
      "        [-6.4875e+00, -1.4908e+01,  7.8043e+00,  8.2291e+00,  4.8116e-01,\n",
      "         -7.8306e+00,  1.2109e+01, -1.4899e+01,  1.3058e+01,  1.2426e+01],\n",
      "        [-2.4454e-02, -1.8219e+01,  4.9436e+00,  5.3806e+00, -5.3137e+00,\n",
      "         -6.9765e+00,  1.2534e+01, -1.7803e+01, -6.6248e+00, -4.8743e+00],\n",
      "        [-5.2785e+00, -1.4475e+01,  6.1224e-02,  1.3638e+01, -7.9751e+00,\n",
      "         -8.0334e+00,  9.8338e+00, -1.7682e+01,  1.3710e+01,  1.4387e+01],\n",
      "        [-3.9091e+00, -1.8253e+01, -8.1106e+00,  9.3619e-02, -1.6175e+00,\n",
      "         -1.5601e+01,  1.6421e+01, -9.9128e+00,  2.0008e+00,  1.6246e+01],\n",
      "        [-9.4100e+00, -6.3100e+00, -3.2242e+00,  5.4399e+00, -8.7303e+00,\n",
      "         -3.3345e+00,  1.1418e+01, -3.6995e+00,  2.8126e+00,  5.5078e+00],\n",
      "        [-5.8538e+00, -8.8800e+00, -7.9153e+00,  2.9612e+00, -4.5766e+00,\n",
      "         -1.5447e+01,  1.0260e+01, -1.5124e+01,  5.3184e+00,  2.8982e+00],\n",
      "        [-7.1620e+00, -6.8456e+00, -5.4363e+00,  4.5967e+00, -9.9722e+00,\n",
      "         -1.2846e+01,  9.5419e+00, -1.3833e+01,  1.2395e+01,  1.4455e+00],\n",
      "        [-9.3657e+00, -7.3911e+00, -4.2350e+00,  2.0235e+00, -8.5721e+00,\n",
      "         -7.1698e+00,  7.9504e+00, -9.5571e+00,  9.2990e+00,  3.7039e+00],\n",
      "        [-3.3966e+00, -2.1895e+01,  5.3016e+00,  1.4464e+01, -3.7466e+00,\n",
      "         -6.0349e+00,  7.7456e+00, -1.3100e+01, -5.0159e-01,  8.1101e+00],\n",
      "        [-2.5446e+00, -7.6544e+00, -4.1834e+00,  5.4695e+00, -1.0432e+01,\n",
      "         -9.7326e+00,  4.5683e+00, -1.4653e+01,  4.8587e+00,  8.0325e+00],\n",
      "        [-7.6635e+00, -2.1356e+01, -6.7294e+00,  7.8062e+00, -8.1525e+00,\n",
      "         -9.2059e+00,  1.6405e+01, -9.0891e+00, -4.8553e+00,  3.7920e+00],\n",
      "        [-9.1794e+00, -1.8446e+01, -8.6995e+00,  1.9551e+01,  7.4643e-01,\n",
      "         -1.3498e+01,  1.3917e+01, -8.3966e+00,  6.3252e-01,  8.2541e+00],\n",
      "        [-2.3412e+00, -1.5213e+01,  2.7724e+00,  1.6261e+01,  3.7550e+00,\n",
      "         -8.7486e+00,  8.9898e+00, -1.3573e+01,  2.0619e+00,  1.7210e+00],\n",
      "        [ 4.4237e-01, -7.2088e+00,  3.4360e+00,  3.5060e+00, -1.8108e+01,\n",
      "         -1.2441e+00,  1.9257e+01,  4.8106e-01, -1.9596e+00,  4.2423e+00],\n",
      "        [-1.1147e+00, -6.0789e+00,  2.0481e+00,  6.3330e+00, -6.1020e+00,\n",
      "         -1.2047e+01,  6.7769e+00, -1.5606e+01, -1.5095e+00,  7.3508e+00],\n",
      "        [-1.0162e+01, -3.5637e+00,  9.5966e+00,  1.3564e+01, -4.0064e+00,\n",
      "         -2.1390e+01,  1.0138e+01, -1.2815e+01,  9.8159e+00,  6.1885e+00],\n",
      "        [-1.1073e+01, -1.4711e+01,  9.4644e+00,  2.7946e+00, -4.2864e+00,\n",
      "         -1.1097e+01,  1.3470e+01, -7.4430e+00, -1.6663e+00,  4.0910e+00],\n",
      "        [-5.2688e+00, -8.9303e+00, -1.0064e+01,  1.0777e+01,  6.0846e-01,\n",
      "         -1.3439e+01, -3.4499e-01, -1.6384e+01,  8.8655e+00,  2.6770e+00],\n",
      "        [-6.3383e+00, -1.3756e+01,  8.4953e+00,  1.0989e+01,  7.0670e+00,\n",
      "         -1.0449e+01,  1.1932e+01, -1.9242e+01,  6.2389e+00, -1.3229e+00],\n",
      "        [-7.5755e+00, -8.7185e+00, -8.9166e+00,  6.7961e+00, -6.9876e+00,\n",
      "         -9.7776e+00,  6.6672e+00, -9.0621e+00,  6.0195e+00,  2.7196e+00],\n",
      "        [-8.4447e+00, -7.8631e+00, -5.5800e+00,  9.2263e+00, -6.1326e-03,\n",
      "         -7.5067e+00,  1.1579e+01, -1.5477e+01,  7.5498e+00,  8.3897e+00],\n",
      "        [-6.9206e+00, -8.4384e+00,  5.2718e+00,  1.1867e+01, -1.1148e+01,\n",
      "         -3.6867e+00,  1.0097e+01, -8.5255e+00,  1.0630e+01,  4.0008e+00],\n",
      "        [-6.8332e-01,  6.7307e-01,  4.2788e+00,  1.2811e+01, -6.0977e+00,\n",
      "          5.5833e-02,  1.4152e+01, -1.4448e+01,  1.1409e+01,  6.4512e+00],\n",
      "        [-9.5778e-01, -6.8736e+00, -4.9141e+00,  1.4878e+01,  9.1213e-01,\n",
      "         -7.6015e+00,  1.6414e+01, -1.0067e+01,  9.7429e+00,  9.4998e+00],\n",
      "        [-3.9939e+00, -8.3680e+00, -8.6971e+00,  2.0279e+00, -5.6505e+00,\n",
      "         -1.6053e+01,  1.0481e+01, -1.6159e+01,  4.9122e+00, -4.2819e-03],\n",
      "        [-6.6353e+00, -1.4788e+01, -6.4286e-01,  1.2612e+01, -6.4040e+00,\n",
      "         -7.9224e+00,  1.8477e+01, -1.7302e+01,  5.2081e+00,  7.4478e+00],\n",
      "        [ 3.9683e+00, -1.7318e-01, -7.6474e-01,  9.9247e+00, -4.0354e-01,\n",
      "         -6.5123e+00,  1.1396e+01, -4.3002e+00,  2.2870e+00,  4.1146e-03],\n",
      "        [-7.0246e+00, -9.7960e+00, -2.2240e-01,  4.7344e+00,  4.1663e+00,\n",
      "         -1.7547e+01,  1.6402e+01, -1.3612e+01, -3.4825e+00,  3.0429e+00],\n",
      "        [-1.3739e+01, -1.4225e+01,  3.4242e-01,  1.0440e+01, -3.6193e+00,\n",
      "         -7.6083e+00,  1.1445e+01, -1.4710e+01,  5.7514e+00,  6.5171e+00],\n",
      "        [-5.4918e+00, -4.5705e+00,  4.2707e-01,  1.9980e+00, -7.7945e+00,\n",
      "         -1.2430e+01,  1.4822e+01, -1.4672e+01,  6.1914e+00,  8.3384e+00],\n",
      "        [-8.6307e+00, -4.8130e-01,  2.7245e+00,  1.1524e+01, -2.2665e+00,\n",
      "         -5.5212e+00,  4.7856e+00, -1.3295e+01,  6.7818e+00, -1.1806e+00],\n",
      "        [ 6.4640e+00, -1.5652e+01, -1.3149e+01,  8.9448e+00,  1.2665e+00,\n",
      "         -3.2497e+00,  1.5527e+01, -1.1877e+01,  7.7285e+00,  1.8063e+00],\n",
      "        [-1.7149e+00, -4.3222e+00, -3.0578e-01,  2.2691e+00, -7.3460e-01,\n",
      "         -3.5767e+00,  1.2549e+01, -4.2274e+00,  6.1547e+00,  1.2118e-01],\n",
      "        [-2.9563e+00, -3.9982e+00, -2.4825e+00,  9.0801e+00, -2.2245e-01,\n",
      "         -6.3821e-01,  1.8230e+01,  7.8903e+00, -7.8059e+00, -8.3518e-01],\n",
      "        [-2.3901e+00, -9.4052e+00, -8.6826e+00,  4.5094e+00, -1.3880e+01,\n",
      "         -1.4372e+00,  1.3708e+01,  6.9126e-02,  5.5641e+00,  3.7147e+00],\n",
      "        [-1.4466e+01, -8.7638e+00, -7.5290e+00,  6.6484e+00, -6.8739e+00,\n",
      "          4.1501e+00,  1.9914e+01,  3.0122e+00,  4.1925e+00,  1.9534e+00],\n",
      "        [-7.3404e+00, -1.0323e+01, -2.5544e+00,  1.2676e+01, -4.7586e+00,\n",
      "         -4.5513e+00,  1.4124e+01, -1.1108e+01,  1.1377e+01,  1.1345e+01],\n",
      "        [-1.7225e+01, -1.5413e+01,  4.0172e+00,  1.2982e+01, -5.5445e+00,\n",
      "         -9.0868e+00,  1.0624e+01, -1.5172e+01,  7.8491e+00,  1.7971e+00],\n",
      "        [-1.3189e+01, -1.5016e+01, -2.6538e+00,  1.1112e+01, -7.1090e+00,\n",
      "         -8.2977e+00,  2.0031e+01, -2.4381e+00,  1.9288e+00, -7.9997e+00],\n",
      "        [-5.9771e+00, -7.9033e+00, -5.0674e+00,  1.4963e+01, -7.7405e+00,\n",
      "          6.8461e-01,  1.6286e+01, -1.1266e+01, -1.2879e+00, -1.3143e+01],\n",
      "        [-1.4413e+01, -2.0139e+01, -9.0203e+00,  9.4601e+00, -3.9446e+00,\n",
      "         -1.8222e+01,  2.1088e+01, -1.7367e-01,  1.5073e+00,  3.3223e+00],\n",
      "        [-1.6392e+01, -2.4088e+00,  2.0340e-01,  8.9275e+00, -1.3951e+00,\n",
      "         -9.7432e+00,  1.5466e+01, -6.1690e+00, -2.7926e+00,  6.0141e+00]])\n"
     ]
    }
   ],
   "source": [
    "## Your solution\n",
    "\n",
    "def activation(x): #sigmoid\n",
    "    return 1/(1+torch.exp(-x))\n",
    "\n",
    "# Flatten the input images\n",
    "\n",
    "inputs = images.view(images.shape[0], -1) \n",
    "#-1 means to flatten, you could also just put 784 like below\n",
    "# inputs = images.view(images.shape[0], 784)\n",
    "\n",
    "# Create parameters\n",
    "\n",
    "w1 = torch.randn(784, 256) #784 input units, 256 hidden units\n",
    "b1 = torch.randn(256)\n",
    "\n",
    "w2 = torch.randn(256, 10) #256 input units, 10 output hidden units\n",
    "b2 = torch.randn(10)\n",
    "\n",
    "# output of your network, should have shape (64,10)\n",
    "\n",
    "h = activation(torch.mm(inputs, w1) + b1)\n",
    "out = torch.mm(h, w2) + b2\n",
    "print(out.shape)\n",
    "print(out)"
   ]
  },
  {
   "cell_type": "markdown",
   "metadata": {},
   "source": [
    "Now we have 10 outputs for our network. We want to pass in an image to our network and get out a probability distribution over the classes that tells us the likely class(es) the image belongs to. Something that looks like this:\n",
    "<img src='assets/image_distribution.png' width=500px>\n",
    "\n",
    "Here we see that the probability for each class is roughly the same. This is representing an untrained network, it hasn't seen any data yet so it just returns a uniform distribution with equal probabilities for each class.\n",
    "\n",
    "To calculate this probability distribution, we often use the [**softmax** function](https://en.wikipedia.org/wiki/Softmax_function). Mathematically this looks like\n",
    "\n",
    "$$\n",
    "\\Large \\sigma(x_i) = \\cfrac{e^{x_i}}{\\sum_k^K{e^{x_k}}}\n",
    "$$\n",
    "\n",
    "What this does is squish each input $x_i$ between 0 and 1 and normalizes the values to give you a proper probability distribution where the probabilites sum up to one.\n",
    "\n",
    "> **Exercise:** Implement a function `softmax` that performs the softmax calculation and returns probability distributions for each example in the batch. Note that you'll need to pay attention to the shapes when doing this. If you have a tensor `a` with shape `(64, 10)` and a tensor `b` with shape `(64,)`, doing `a/b` will give you an error because PyTorch will try to do the division across the columns (called broadcasting) but you'll get a size mismatch. The way to think about this is for each of the 64 examples, you only want to divide by one value, the sum in the denominator. So you need `b` to have a shape of `(64, 1)`. This way PyTorch will divide the 10 values in each row of `a` by the one value in each row of `b`. Pay attention to how you take the sum as well. You'll need to define the `dim` keyword in `torch.sum`. Setting `dim=0` takes the sum across the rows while `dim=1` takes the sum across the columns."
   ]
  },
  {
   "cell_type": "code",
   "execution_count": 14,
   "metadata": {},
   "outputs": [
    {
     "name": "stdout",
     "output_type": "stream",
     "text": [
      "torch.Size([64, 10])\n",
      "tensor([1.0000, 1.0000, 1.0000, 1.0000, 1.0000, 1.0000, 1.0000, 1.0000, 1.0000,\n",
      "        1.0000, 1.0000, 1.0000, 1.0000, 1.0000, 1.0000, 1.0000, 1.0000, 1.0000,\n",
      "        1.0000, 1.0000, 1.0000, 1.0000, 1.0000, 1.0000, 1.0000, 1.0000, 1.0000,\n",
      "        1.0000, 1.0000, 1.0000, 1.0000, 1.0000, 1.0000, 1.0000, 1.0000, 1.0000,\n",
      "        1.0000, 1.0000, 1.0000, 1.0000, 1.0000, 1.0000, 1.0000, 1.0000, 1.0000,\n",
      "        1.0000, 1.0000, 1.0000, 1.0000, 1.0000, 1.0000, 1.0000, 1.0000, 1.0000,\n",
      "        1.0000, 1.0000, 1.0000, 1.0000, 1.0000, 1.0000, 1.0000, 1.0000, 1.0000,\n",
      "        1.0000])\n"
     ]
    }
   ],
   "source": [
    "def softmax(x):\n",
    "    return torch.exp(x) / torch.sum(torch.exp(x), dim=1).view(-1,1) # needed to reshape the second tensor to 64 by 1\n",
    "\n",
    "# Here, out should be the output of the network in the previous excercise with shape (64,10)\n",
    "probabilities = softmax(out)\n",
    "\n",
    "# Does it have the right shape? Should be (64, 10)\n",
    "print(probabilities.shape)\n",
    "# Does it sum to 1?\n",
    "print(probabilities.sum(dim=1))"
   ]
  },
  {
   "cell_type": "markdown",
   "metadata": {},
   "source": [
    "## Building networks with PyTorch\n",
    "\n",
    "PyTorch provides a module `nn` that makes building networks much simpler. Here I'll show you how to build the same one as above with 784 inputs, 256 hidden units, 10 output units and a softmax output."
   ]
  },
  {
   "cell_type": "code",
   "execution_count": 15,
   "metadata": {},
   "outputs": [],
   "source": [
    "from torch import nn"
   ]
  },
  {
   "cell_type": "code",
   "execution_count": 16,
   "metadata": {},
   "outputs": [],
   "source": [
    "class Network(nn.Module):\n",
    "    def __init__(self):\n",
    "        super().__init__()\n",
    "        \n",
    "        # Inputs to hidden layer linear transformation\n",
    "        self.hidden = nn.Linear(784, 256)\n",
    "        # Output layer, 10 units - one for each digit\n",
    "        self.output = nn.Linear(256, 10)\n",
    "        \n",
    "        # Define sigmoid activation and softmax output \n",
    "        self.sigmoid = nn.Sigmoid()\n",
    "        self.softmax = nn.Softmax(dim=1)\n",
    "        \n",
    "    def forward(self, x):\n",
    "        # Pass the input tensor through each of our operations\n",
    "        x = self.hidden(x)\n",
    "        x = self.sigmoid(x)\n",
    "        x = self.output(x)\n",
    "        x = self.softmax(x)\n",
    "        \n",
    "        return x"
   ]
  },
  {
   "cell_type": "markdown",
   "metadata": {},
   "source": [
    "Let's go through this bit by bit.\n",
    "\n",
    "```python\n",
    "class Network(nn.Module):\n",
    "```\n",
    "\n",
    "Here we're inheriting from `nn.Module`. Combined with `super().__init__()` this creates a class that tracks the architecture and provides a lot of useful methods and attributes. It is mandatory to inherit from `nn.Module` when you're creating a class for your network. The name of the class itself can be anything.\n",
    "\n",
    "```python\n",
    "self.hidden = nn.Linear(784, 256)\n",
    "```\n",
    "\n",
    "This line creates a module for a linear transformation, $x\\mathbf{W} + b$, with 784 inputs and 256 outputs and assigns it to `self.hidden`. The module automatically creates the weight and bias tensors which we'll use in the `forward` method. You can access the weight and bias tensors once the network (`net`) is created with `net.hidden.weight` and `net.hidden.bias`.\n",
    "\n",
    "```python\n",
    "self.output = nn.Linear(256, 10)\n",
    "```\n",
    "\n",
    "Similarly, this creates another linear transformation with 256 inputs and 10 outputs.\n",
    "\n",
    "```python\n",
    "self.sigmoid = nn.Sigmoid()\n",
    "self.softmax = nn.Softmax(dim=1)\n",
    "```\n",
    "\n",
    "Here I defined operations for the sigmoid activation and softmax output. Setting `dim=1` in `nn.Softmax(dim=1)` calculates softmax across the columns.\n",
    "\n",
    "```python\n",
    "def forward(self, x):\n",
    "```\n",
    "\n",
    "PyTorch networks created with `nn.Module` must have a `forward` method defined. It takes in a tensor `x` and passes it through the operations you defined in the `__init__` method.\n",
    "\n",
    "```python\n",
    "x = self.hidden(x)\n",
    "x = self.sigmoid(x)\n",
    "x = self.output(x)\n",
    "x = self.softmax(x)\n",
    "```\n",
    "\n",
    "Here the input tensor `x` is passed through each operation a reassigned to `x`. We can see that the input tensor goes through the hidden layer, then a sigmoid function, then the output layer, and finally the softmax function. It doesn't matter what you name the variables here, as long as the inputs and outputs of the operations match the network architecture you want to build. The order in which you define things in the `__init__` method doesn't matter, but you'll need to sequence the operations correctly in the `forward` method.\n",
    "\n",
    "Now we can create a `Network` object."
   ]
  },
  {
   "cell_type": "code",
   "execution_count": 17,
   "metadata": {},
   "outputs": [
    {
     "data": {
      "text/plain": [
       "Network(\n",
       "  (hidden): Linear(in_features=784, out_features=256, bias=True)\n",
       "  (output): Linear(in_features=256, out_features=10, bias=True)\n",
       "  (sigmoid): Sigmoid()\n",
       "  (softmax): Softmax(dim=1)\n",
       ")"
      ]
     },
     "execution_count": 17,
     "metadata": {},
     "output_type": "execute_result"
    }
   ],
   "source": [
    "# Create the network and look at it's text representation\n",
    "model = Network()\n",
    "model"
   ]
  },
  {
   "cell_type": "markdown",
   "metadata": {},
   "source": [
    "You can define the network somewhat more concisely and clearly using the `torch.nn.functional` module. This is the most common way you'll see networks defined as many operations are simple element-wise functions. We normally import this module as `F`, `import torch.nn.functional as F`."
   ]
  },
  {
   "cell_type": "code",
   "execution_count": 28,
   "metadata": {},
   "outputs": [],
   "source": [
    "#### this is same as above, and use the functional. a little bit more clean.\n",
    "\n",
    "import torch.nn.functional as F\n",
    "\n",
    "class Network(nn.Module):\n",
    "    def __init__(self):\n",
    "        super().__init__()\n",
    "        # Inputs to hidden layer linear transformation\n",
    "        self.hidden = nn.Linear(784, 256)\n",
    "        # Output layer, 10 units - one for each digit\n",
    "        self.output = nn.Linear(256, 10)\n",
    "        \n",
    "    def forward(self, x):\n",
    "        # Hidden layer with sigmoid activation\n",
    "        x = F.sigmoid(self.hidden(x))\n",
    "        # Output layer with softmax activation\n",
    "        x = F.softmax(self.output(x), dim=1)\n",
    "        \n",
    "        return x"
   ]
  },
  {
   "cell_type": "markdown",
   "metadata": {},
   "source": [
    "### Activation functions\n",
    "\n",
    "So far we've only been looking at the softmax activation, but in general any function can be used as an activation function. The only requirement is that for a network to approximate a non-linear function, the activation functions must be non-linear. Here are a few more examples of common activation functions: Tanh (hyperbolic tangent), and ReLU (rectified linear unit).\n",
    "\n",
    "<img src=\"assets/activation.png\" width=700px>\n",
    "\n",
    "In practice, the ReLU function is used almost exclusively as the activation function for hidden layers."
   ]
  },
  {
   "cell_type": "markdown",
   "metadata": {},
   "source": [
    "### Your Turn to Build a Network\n",
    "\n",
    "<img src=\"assets/mlp_mnist.png\" width=600px>\n",
    "\n",
    "> **Exercise:** Create a network with 784 input units, a hidden layer with 128 units and a ReLU activation, then a hidden layer with 64 units and a ReLU activation, and finally an output layer with a softmax activation as shown above. You can use a ReLU activation with the `nn.ReLU` module or `F.relu` function."
   ]
  },
  {
   "cell_type": "code",
   "execution_count": 39,
   "metadata": {
    "scrolled": true
   },
   "outputs": [
    {
     "data": {
      "text/plain": [
       "Network(\n",
       "  (fc1): Linear(in_features=784, out_features=128, bias=True)\n",
       "  (fc2): Linear(in_features=128, out_features=64, bias=True)\n",
       "  (fc3): Linear(in_features=64, out_features=10, bias=True)\n",
       ")"
      ]
     },
     "execution_count": 39,
     "metadata": {},
     "output_type": "execute_result"
    }
   ],
   "source": [
    "# Your solution here\n",
    "\n",
    "import torch.nn.functional as F\n",
    "\n",
    "class Network(nn.Module):\n",
    "    def __init__(self):\n",
    "        super().__init__()\n",
    "        # Defining the layers, 128, 64, 10 units each\n",
    "        self.fc1 = nn.Linear(784, 128)\n",
    "        self.fc2 = nn.Linear(128, 64)\n",
    "        # Output layer, 10 units - one for each digit\n",
    "        self.fc3 = nn.Linear(64, 10)\n",
    "        \n",
    "    def forward(self, x):\n",
    "        # Hidden layer with relu activation\n",
    "        x = F.relu(self.fc1(x))\n",
    "        x = F.relu(self.fc2(x))\n",
    "        # final layer with softmax\n",
    "        x = F.softmax(self.fc3(x), dim=1)\n",
    "        \n",
    "        return x\n",
    "model = Network()\n",
    "model"
   ]
  },
  {
   "cell_type": "markdown",
   "metadata": {},
   "source": [
    "### Initializing weights and biases\n",
    "\n",
    "The weights and such are automatically initialized for you, but it's possible to customize how they are initialized. The weights and biases are tensors attached to the layer you defined, you can get them with `model.fc1.weight` for instance."
   ]
  },
  {
   "cell_type": "code",
   "execution_count": 40,
   "metadata": {},
   "outputs": [
    {
     "name": "stdout",
     "output_type": "stream",
     "text": [
      "Parameter containing:\n",
      "tensor([[-0.0255,  0.0252,  0.0116,  ..., -0.0004, -0.0059,  0.0108],\n",
      "        [-0.0294,  0.0304,  0.0242,  ..., -0.0335,  0.0046, -0.0220],\n",
      "        [ 0.0132, -0.0133, -0.0186,  ...,  0.0224,  0.0016,  0.0087],\n",
      "        ...,\n",
      "        [-0.0010,  0.0239, -0.0059,  ...,  0.0102,  0.0199,  0.0316],\n",
      "        [ 0.0067, -0.0034, -0.0323,  ..., -0.0333, -0.0047, -0.0206],\n",
      "        [-0.0193,  0.0160,  0.0089,  ..., -0.0234, -0.0033, -0.0089]],\n",
      "       requires_grad=True)\n",
      "Parameter containing:\n",
      "tensor([ 0.0338, -0.0205, -0.0096, -0.0337,  0.0326, -0.0351,  0.0050, -0.0279,\n",
      "        -0.0008,  0.0302, -0.0024, -0.0186, -0.0035, -0.0061, -0.0003,  0.0149,\n",
      "        -0.0268, -0.0244,  0.0097,  0.0291,  0.0016, -0.0137, -0.0321, -0.0055,\n",
      "         0.0055, -0.0027,  0.0325, -0.0207, -0.0052, -0.0204, -0.0205,  0.0331,\n",
      "        -0.0349,  0.0154, -0.0347, -0.0280,  0.0005, -0.0031, -0.0244, -0.0249,\n",
      "         0.0171, -0.0311,  0.0142,  0.0305,  0.0068,  0.0212, -0.0027,  0.0192,\n",
      "         0.0298, -0.0126,  0.0330,  0.0019,  0.0345,  0.0054,  0.0255, -0.0186,\n",
      "         0.0349, -0.0345, -0.0078, -0.0110,  0.0046, -0.0242,  0.0229,  0.0290,\n",
      "         0.0283,  0.0322,  0.0164, -0.0178,  0.0116,  0.0137,  0.0333, -0.0164,\n",
      "         0.0356, -0.0319, -0.0351, -0.0165, -0.0117,  0.0011,  0.0279,  0.0054,\n",
      "        -0.0262,  0.0287,  0.0307, -0.0004, -0.0269,  0.0263,  0.0031, -0.0290,\n",
      "        -0.0338,  0.0325,  0.0077, -0.0186, -0.0254,  0.0115,  0.0183, -0.0320,\n",
      "         0.0037,  0.0185,  0.0310,  0.0037,  0.0277,  0.0313, -0.0030,  0.0356,\n",
      "         0.0219, -0.0173, -0.0029,  0.0025,  0.0288, -0.0196, -0.0163, -0.0270,\n",
      "        -0.0313, -0.0057,  0.0064,  0.0301,  0.0027, -0.0293,  0.0331, -0.0310,\n",
      "        -0.0069, -0.0346,  0.0211,  0.0169, -0.0020,  0.0094,  0.0025, -0.0034],\n",
      "       requires_grad=True)\n"
     ]
    }
   ],
   "source": [
    "print(model.fc1.weight)\n",
    "print(model.fc1.bias)"
   ]
  },
  {
   "cell_type": "markdown",
   "metadata": {},
   "source": [
    "For custom initialization, we want to modify these tensors in place. These are actually autograd *Variables*, so we need to get back the actual tensors with `model.fc1.weight.data`. Once we have the tensors, we can fill them with zeros (for biases) or random normal values."
   ]
  },
  {
   "cell_type": "code",
   "execution_count": 41,
   "metadata": {},
   "outputs": [
    {
     "data": {
      "text/plain": [
       "tensor([0., 0., 0., 0., 0., 0., 0., 0., 0., 0., 0., 0., 0., 0., 0., 0., 0., 0., 0., 0., 0., 0., 0., 0.,\n",
       "        0., 0., 0., 0., 0., 0., 0., 0., 0., 0., 0., 0., 0., 0., 0., 0., 0., 0., 0., 0., 0., 0., 0., 0.,\n",
       "        0., 0., 0., 0., 0., 0., 0., 0., 0., 0., 0., 0., 0., 0., 0., 0., 0., 0., 0., 0., 0., 0., 0., 0.,\n",
       "        0., 0., 0., 0., 0., 0., 0., 0., 0., 0., 0., 0., 0., 0., 0., 0., 0., 0., 0., 0., 0., 0., 0., 0.,\n",
       "        0., 0., 0., 0., 0., 0., 0., 0., 0., 0., 0., 0., 0., 0., 0., 0., 0., 0., 0., 0., 0., 0., 0., 0.,\n",
       "        0., 0., 0., 0., 0., 0., 0., 0.])"
      ]
     },
     "execution_count": 41,
     "metadata": {},
     "output_type": "execute_result"
    }
   ],
   "source": [
    "# Set biases to all zeros\n",
    "model.fc1.bias.data.fill_(0)"
   ]
  },
  {
   "cell_type": "code",
   "execution_count": 42,
   "metadata": {},
   "outputs": [
    {
     "data": {
      "text/plain": [
       "tensor([[ 0.0038, -0.0147,  0.0057,  ..., -0.0078, -0.0096, -0.0094],\n",
       "        [ 0.0094,  0.0056,  0.0020,  ...,  0.0028, -0.0157, -0.0135],\n",
       "        [-0.0202, -0.0075, -0.0079,  ..., -0.0023, -0.0148, -0.0136],\n",
       "        ...,\n",
       "        [-0.0029, -0.0073,  0.0165,  ..., -0.0018,  0.0083, -0.0160],\n",
       "        [ 0.0087,  0.0021,  0.0203,  ...,  0.0002,  0.0143,  0.0003],\n",
       "        [-0.0046,  0.0043,  0.0059,  ...,  0.0013,  0.0126, -0.0356]])"
      ]
     },
     "execution_count": 42,
     "metadata": {},
     "output_type": "execute_result"
    }
   ],
   "source": [
    "# sample from random normal with standard dev = 0.01\n",
    "model.fc1.weight.data.normal_(std=0.01)"
   ]
  },
  {
   "cell_type": "markdown",
   "metadata": {},
   "source": [
    "### Forward pass\n",
    "\n",
    "Now that we have a network, let's see what happens when we pass in an image."
   ]
  },
  {
   "cell_type": "code",
   "execution_count": 43,
   "metadata": {},
   "outputs": [
    {
     "data": {
      "image/png": "[encoded data removed]",
      "text/plain": [
       "<Figure size 432x648 with 2 Axes>"
      ]
     },
     "metadata": {
      "image/png": {
       "height": 235,
       "width": 424
      },
      "needs_background": "light"
     },
     "output_type": "display_data"
    }
   ],
   "source": [
    "# Grab some data \n",
    "dataiter = iter(trainloader)\n",
    "images, labels = dataiter.next()\n",
    "\n",
    "# Resize images into a 1D vector, new shape is (batch size, color channels, image pixels) \n",
    "images.resize_(64, 1, 784)\n",
    "# or images.resize_(images.shape[0], 1, 784) to automatically get batch size\n",
    "\n",
    "# Forward pass through the network\n",
    "img_idx = 0\n",
    "ps = model.forward(images[img_idx,:])\n",
    "\n",
    "img = images[img_idx]\n",
    "helper.view_classify(img.view(1, 28, 28), ps)"
   ]
  },
  {
   "cell_type": "markdown",
   "metadata": {},
   "source": [
    "As you can see above, our network has basically no idea what this digit is. It's because we haven't trained it yet, all the weights are random!\n",
    "\n",
    "### Using `nn.Sequential`\n",
    "\n",
    "PyTorch provides a convenient way to build networks like this where a tensor is passed sequentially through operations, `nn.Sequential` ([documentation](https://pytorch.org/docs/master/nn.html#torch.nn.Sequential)). Using this to build the equivalent network:"
   ]
  },
  {
   "cell_type": "code",
   "execution_count": 44,
   "metadata": {},
   "outputs": [
    {
     "name": "stdout",
     "output_type": "stream",
     "text": [
      "Sequential(\n",
      "  (0): Linear(in_features=784, out_features=128, bias=True)\n",
      "  (1): ReLU()\n",
      "  (2): Linear(in_features=128, out_features=64, bias=True)\n",
      "  (3): ReLU()\n",
      "  (4): Linear(in_features=64, out_features=10, bias=True)\n",
      "  (5): Softmax(dim=1)\n",
      ")\n"
     ]
    },
    {
     "data": {
      "image/png": "[encoded data removed]",
      "text/plain": [
       "<Figure size 432x648 with 2 Axes>"
      ]
     },
     "metadata": {
      "image/png": {
       "height": 235,
       "width": 424
      },
      "needs_background": "light"
     },
     "output_type": "display_data"
    }
   ],
   "source": [
    "# Hyperparameters for our network\n",
    "# this is an even easier way, you dont need to define the class anymore.\n",
    "\n",
    "input_size = 784\n",
    "hidden_sizes = [128, 64]\n",
    "output_size = 10\n",
    "\n",
    "# Build a feed-forward network\n",
    "model = nn.Sequential(nn.Linear(input_size, hidden_sizes[0]),\n",
    "                      nn.ReLU(),\n",
    "                      nn.Linear(hidden_sizes[0], hidden_sizes[1]),\n",
    "                      nn.ReLU(),\n",
    "                      nn.Linear(hidden_sizes[1], output_size),\n",
    "                      nn.Softmax(dim=1))\n",
    "print(model)\n",
    "\n",
    "# Forward pass through the network and display output\n",
    "images, labels = next(iter(trainloader))\n",
    "images.resize_(images.shape[0], 1, 784)\n",
    "ps = model.forward(images[0,:])\n",
    "helper.view_classify(images[0].view(1, 28, 28), ps)"
   ]
  },
  {
   "cell_type": "markdown",
   "metadata": {},
   "source": [
    "Here our model is the same as before: 784 input units, a hidden layer with 128 units, ReLU activation, 64 unit hidden layer, another ReLU, then the output layer with 10 units, and the softmax output.\n",
    "\n",
    "The operations are availble by passing in the appropriate index. For example, if you want to get first Linear operation and look at the weights, you'd use `model[0]`."
   ]
  },
  {
   "cell_type": "code",
   "execution_count": 45,
   "metadata": {},
   "outputs": [
    {
     "name": "stdout",
     "output_type": "stream",
     "text": [
      "Linear(in_features=784, out_features=128, bias=True)\n"
     ]
    },
    {
     "data": {
      "text/plain": [
       "Parameter containing:\n",
       "tensor([[ 0.0007,  0.0096, -0.0070,  ..., -0.0219, -0.0138, -0.0307],\n",
       "        [-0.0247,  0.0317, -0.0243,  ..., -0.0229,  0.0015,  0.0157],\n",
       "        [-0.0192, -0.0178, -0.0257,  ...,  0.0324,  0.0356, -0.0255],\n",
       "        ...,\n",
       "        [ 0.0126, -0.0291, -0.0022,  ..., -0.0133,  0.0099,  0.0290],\n",
       "        [ 0.0307,  0.0181, -0.0061,  ..., -0.0027, -0.0100,  0.0099],\n",
       "        [-0.0070,  0.0105,  0.0227,  ..., -0.0015, -0.0097,  0.0266]],\n",
       "       requires_grad=True)"
      ]
     },
     "execution_count": 45,
     "metadata": {},
     "output_type": "execute_result"
    }
   ],
   "source": [
    "print(model[0])\n",
    "model[0].weight"
   ]
  },
  {
   "cell_type": "markdown",
   "metadata": {},
   "source": [
    "You can also pass in an `OrderedDict` to name the individual layers and operations, instead of using incremental integers. Note that dictionary keys must be unique, so _each operation must have a different name_."
   ]
  },
  {
   "cell_type": "code",
   "execution_count": 47,
   "metadata": {},
   "outputs": [
    {
     "data": {
      "text/plain": [
       "Sequential(\n",
       "  (fc1): Linear(in_features=784, out_features=128, bias=True)\n",
       "  (relu1): ReLU()\n",
       "  (fc2): Linear(in_features=128, out_features=64, bias=True)\n",
       "  (relu2): ReLU()\n",
       "  (output): Linear(in_features=64, out_features=10, bias=True)\n",
       "  (softmax): Softmax(dim=1)\n",
       ")"
      ]
     },
     "execution_count": 47,
     "metadata": {},
     "output_type": "execute_result"
    }
   ],
   "source": [
    "# using OrderedDict, you can name each of the steps\n",
    "\n",
    "from collections import OrderedDict\n",
    "model = nn.Sequential(OrderedDict([\n",
    "                      ('fc1', nn.Linear(input_size, hidden_sizes[0])),\n",
    "                      ('relu1', nn.ReLU()),\n",
    "                      ('fc2', nn.Linear(hidden_sizes[0], hidden_sizes[1])),\n",
    "                      ('relu2', nn.ReLU()),\n",
    "                      ('output', nn.Linear(hidden_sizes[1], output_size)),\n",
    "                      ('softmax', nn.Softmax(dim=1))]))\n",
    "model"
   ]
  },
  {
   "cell_type": "markdown",
   "metadata": {},
   "source": [
    "Now you can access layers either by integer or the name"
   ]
  },
  {
   "cell_type": "code",
   "execution_count": 48,
   "metadata": {},
   "outputs": [
    {
     "name": "stdout",
     "output_type": "stream",
     "text": [
      "Linear(in_features=784, out_features=128, bias=True)\n",
      "Linear(in_features=784, out_features=128, bias=True)\n"
     ]
    }
   ],
   "source": [
    "print(model[0])\n",
    "print(model.fc1)"
   ]
  },
  {
   "cell_type": "markdown",
   "metadata": {},
   "source": [
    "In the next notebook, we'll see how we can train a neural network to accuractly predict the numbers appearing in the MNIST images."
   ]
  },
  {
   "cell_type": "code",
   "execution_count": null,
   "metadata": {},
   "outputs": [],
   "source": []
  }
 ],
 "metadata": {
  "kernelspec": {
   "display_name": "Python 3",
   "language": "python",
   "name": "python3"
  },
  "language_info": {
   "codemirror_mode": {
    "name": "ipython",
    "version": 3
   },
   "file_extension": ".py",
   "mimetype": "text/x-python",
   "name": "python",
   "nbconvert_exporter": "python",
   "pygments_lexer": "ipython3",
   "version": "3.7.3"
  }
 },
 "nbformat": 4,
 "nbformat_minor": 4
}
